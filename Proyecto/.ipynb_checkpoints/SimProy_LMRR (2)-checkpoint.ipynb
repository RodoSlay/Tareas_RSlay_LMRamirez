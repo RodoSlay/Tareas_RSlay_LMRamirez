{
 "cells": [
  {
   "cell_type": "markdown",
   "metadata": {},
   "source": [
    "# VaR: Monte Carlo "
   ]
  },
  {
   "cell_type": "markdown",
   "metadata": {},
   "source": [
    "En el presente proyecto, se exponen el método Monte Carlo para calcular el VaR de un portafolio. El portafolio está formado por las acciones de BIMBO, ICA, y HOMEX, tomando en cuenta como datos históricos, sus valores diarios de cierre, comenzando el 16 de julio de 2020 y terminando el 15 de octubre de 2020. Se escogieron dichas acciones debido a que no pagaban dividendos en el periodo tomado.\n",
    "\n",
    "El \"Value at Risk\" o VaR, es una técnica estadística para medir el riesgo financiero de una inversión; este sirve para medir la pérdida máxima para un valor de significancia determinado. El nivel de confianza de los resultados para los métodos mencionados anteriormente es de 90 por ciento. Se considera que es suficientemente confiable para riesgo que se asume y adecuado para mostrar las estimaciones que se buscan para el VaR, de esta forma no se obtienen un rango tan amplio que sea absurdo, y en su lugar se obtiene un rango suficientemente pequeño para tomar decisiones.\n",
    "\n",
    "Para el modelo Monte Carlo, la correlación de los rendimientos simulados se representa por Épsilon, dentro de la ecuación de rendimiento. El valor de Épsilon está dado por la multiplicación de dos matrices, una matriz \"z\" que contiene valores aleatorios normales, y otra matriz \"Eta\" que es el Cholesky de la matriz de correlación de los rendimientos de los activos. \n",
    "\n",
    "La simulación Monte Carlo, es un modelo paramétrico que utiliza la ecuación de rendimientos, utilizando como parámetros la desviación estándar (volatilidad), la media (valor esperado del activo) y Delta W (la parte estocástica del modelo que contiene tato las correlaciones de los activos (eta), como la variable aleatoria con distribución normal (z)).\n",
    "\n",
    "$$ R_{f}= \\mu\\Delta t + \\sigma\\Delta W  = \\mu\\Delta t + \\sigma \\: \\sqrt{\\Delta t} \\: \\epsilon = \\mu\\Delta t + \\sigma  \\: \\sqrt{\\Delta t} \\: z \\: \\eta \\: \\: \\: \\: \\: \\: \\: \\: \\: donde \\: \\epsilon = z \\: \\eta$$\n",
    "\n",
    "El método consiste en la simulación repetida del cálculo de los rendimientos para la creación de portafolios, y poder estimar de esta forma el VaR correspondiente a una fecha en particular.\n",
    "\n",
    "Para el cálculo del VaR por el método de simulación Monte Carlo, se calcularon los rendimientos de los activos y de estos se obtuvieron los valores promedio de sus rendimientos, la desviación estándar de los rendimientos, como la matriz de correlaciones. Con la matriz de correlaciones, se obtuvo una matriz \\textit{eta} que es el Cholesky de la matriz de correlaciones, la cual introduce en el modelo esa relación entre los activos. \n",
    "\n",
    "Se creó una matriz \"z\" que contiene valores aleatorios con distribución normal. Utilizando los valores iniciales de los activos, se simuló 1000 veces el valor del portafolio de inversión con montos de 100 mil, 100 mil y 300 mil pesos, para BIMBO, HOMEX e ICA respectivamente; siguiendo la ecuación anterior. Se guardaron los valores resultantes para cada portafolio para su análisis."
   ]
  },
  {
   "cell_type": "markdown",
   "metadata": {},
   "source": [
    "Se debe considerar que los rendimientos de los activos que forman el portafolio, tienen una distribución normal. Del tal forma que la media y la desviación estándar del portafolio se definan por medio de:\n",
    "\n",
    "$$E[R_{p}] = \\omega ' E[R] \\: \\: \\: \\: \\: \\: \\: \\: \\: \\: \\:\\: \\: \\omega_{p}^2 = \\omega ' (matriz\\:de\\:varianzas) * \\omega$$"
   ]
  },
  {
   "cell_type": "code",
   "execution_count": 1,
   "metadata": {},
   "outputs": [],
   "source": [
    "import numpy as np\n",
    "import matplotlib.pyplot as plt"
   ]
  },
  {
   "cell_type": "code",
   "execution_count": 2,
   "metadata": {},
   "outputs": [],
   "source": [
    "Montos = np.array([100000, 100000, 300000])                            # matriz de montos\n",
    "Sigma = np.array([0.033007049, 0.010217665, 0.02008644])               # matriz de desviación estandar\n",
    "Rendprom = np.array([-0.005340735, -0.000976682, -0.0007064])          # matriz de rendimientos promedio\n",
    "matcorr = np.array([[1, 0.6987531846, 0.21962612328],                  # matriz de correlación\n",
    "                    [0.6987531846, 1, 0.32254474919],\n",
    "                    [0.21962612328, 0.32254474919, 1]])\n",
    "Spot = np.array([0.99, 43.25,1.5])  # H B I"
   ]
  },
  {
   "cell_type": "code",
   "execution_count": 3,
   "metadata": {},
   "outputs": [],
   "source": [
    "T = 3                                 # Tiempo final (si se quiere el Var a T días se modifica T)\n",
    "n = 1                                 # Numero de incrementos de tiempo\n",
    "dt = (T/n)                            # incremento de tiempo 1/1 = 1 dia\n",
    "raiz_dt = np.sqrt(dt)                 # Raiz cuadrada del incremento del tiempo\n",
    "N = 1000                              # Numero de trayectorias\n",
    "t = np.arange(0, (dt+1), dt*n)        # forma en que se van dando los incrementos de tiempo\n",
    "ultimaCol = (len(t))                  # longitud del tiempo, es la ultima columna"
   ]
  },
  {
   "cell_type": "code",
   "execution_count": 4,
   "metadata": {},
   "outputs": [],
   "source": [
    "S1 = np.zeros((N, (n+1)))             # Matriz de tamaño N,n+1 con ceros para meter los resultados del activo 1\n",
    "Xo1 = 0.99                            # Precio inicial del Activo 1\n",
    "S1[:, 0] = Xo1                        # Se mete el valor inicial del activo 1 en la primera columna\n",
    "Rend1 = -0.005340735                  # Promedio de Rendimientos del Activo 1\n",
    "Desvest1 = 0.033007049                # Desviación estandar de los rendimientos del Activo 1\n",
    "\n",
    "S2 = np.zeros((N, (n+1)))             # Matriz de tamaño N,n+1 con ceros para meter los resultados del activo 2\n",
    "Xo2 = 43.25                           # Precio inicial del Activo 2\n",
    "S2[:, 0] = Xo2                        # Se mete el valor inicial del activo 2 en la primera columna\n",
    "Rend2 = -0.000976682                  # Promedio de rendimientos del Activo 2\n",
    "Desvest2 = 0.010217665                # Desviación estandar de los rendimientos del Activo 2\n",
    "\n",
    "S3 = np.zeros((N, (n+1)))             # Matriz de tamaño N,n+1 con ceros para meter los resultados del activo 3\n",
    "Xo3 = 1.5                             # Precio inicial del Activo 3\n",
    "S3[:, 0] = Xo3                        # Se mete el valor inicial del activo 3 en la primera columna\n",
    "Rend3 = -0.0007064                    # Promedio de Rendimientos del Activo 3\n",
    "Desvest3 = 0.02008644"
   ]
  },
  {
   "cell_type": "code",
   "execution_count": 5,
   "metadata": {},
   "outputs": [],
   "source": [
    "matcorr = np.array([[1, 0.69875318466701, 0.219626123281827],    # Matriz de correlaciones de los Activos\n",
    "                    [0.69875318466701, 1, 0.322544749197685],\n",
    "                    [0.219626123281827, 0.322544749197685, 1]])\n",
    "\n",
    "eta = np.linalg.cholesky(matcorr)  # Cholesky de la matriz de correlaciones de los activos\n"
   ]
  },
  {
   "cell_type": "code",
   "execution_count": 6,
   "metadata": {},
   "outputs": [],
   "source": [
    "for i in range(N):                   # primer ciclo, se hace 1000 veces para hacer las 1000 simulaciones\n",
    "    for k in range(1, ultimaCol):    # ciclo para determinar el valor de los activos\n",
    "        zeta = [[np.random.normal()],\n",
    "                [np.random.normal()],\n",
    "                [np.random.normal()]]           # matriz con los valores aleatorios normales\n",
    "        epsilon = eta.dot(zeta)                 # factor aleatorio que incluye as correlaciones\n",
    "        deltaW1 = raiz_dt*epsilon[0]            # delta w para el activo 1\n",
    "        deltaW2 = raiz_dt*epsilon[1]            # delta w para el activo 2\n",
    "        deltaW3 = raiz_dt*epsilon[2]            # delta w para el activo 3\n",
    "\n",
    "        S1[i, k] = S1[i, k-1]+Rend1*S1[i, k-1]*dt+Desvest1*S1[i, k-1]*deltaW1  # Precio Activo 1\n",
    "        S2[i, k] = S2[i, k-1]+Rend2*S2[i, k-1]*dt+Desvest2*S2[i, k-1]*deltaW2  # Precio Activo 2\n",
    "        S3[i, k] = S3[i, k-1]+Rend3*S3[i, k-1]*dt+Desvest3*S3[i, k-1]*deltaW3  # Precio Activo 3\n",
    "\n"
   ]
  },
  {
   "cell_type": "code",
   "execution_count": 7,
   "metadata": {},
   "outputs": [
    {
     "name": "stdout",
     "output_type": "stream",
     "text": [
      "0.05626878221804285\n"
     ]
    },
    {
     "data": {
      "image/png": "[encoded data removed]",
      "text/plain": [
       "<Figure size 432x288 with 1 Axes>"
      ]
     },
     "metadata": {
      "needs_background": "light"
     },
     "output_type": "display_data"
    }
   ],
   "source": [
    "S1_T = S1[:, ultimaCol-1]\n",
    "mediaS1_T = np.mean(S1_T)    # Promedio de los valores simulados del activo 1\n",
    "varianzaS1_T = np.var(S1_T)  # Varianza de los valores simulados del activo 1\n",
    "print(np.sqrt(varianzaS1_T)) \n",
    "plt.hist(S1_T, bins=20)\n",
    "plt.show()"
   ]
  },
  {
   "cell_type": "code",
   "execution_count": 8,
   "metadata": {},
   "outputs": [
    {
     "name": "stdout",
     "output_type": "stream",
     "text": [
      "0.776275305661938\n"
     ]
    },
    {
     "data": {
      "image/png": "[encoded data removed]",
      "text/plain": [
       "<Figure size 432x288 with 1 Axes>"
      ]
     },
     "metadata": {
      "needs_background": "light"
     },
     "output_type": "display_data"
    }
   ],
   "source": [
    "S2_T = S2[:, ultimaCol-1]\n",
    "mediaS2_T = np.mean(S2_T)    # Promedio de los valores simulados del activo 2\n",
    "varianzaS2_T = np.var(S2_T)  # Varianza de los valores simulados del activo 2\n",
    "print(np.sqrt(varianzaS2_T)) \n",
    "plt.hist(S2_T, bins=20)\n",
    "plt.show()"
   ]
  },
  {
   "cell_type": "code",
   "execution_count": 9,
   "metadata": {
    "scrolled": true
   },
   "outputs": [
    {
     "name": "stdout",
     "output_type": "stream",
     "text": [
      "0.051030145221225696\n"
     ]
    },
    {
     "data": {
      "image/png": "[encoded data removed]",
      "text/plain": [
       "<Figure size 432x288 with 1 Axes>"
      ]
     },
     "metadata": {
      "needs_background": "light"
     },
     "output_type": "display_data"
    }
   ],
   "source": [
    "S3_T = S3[:, ultimaCol-1]\n",
    "mediaS3_T = np.mean(S3_T)    # Promedio de los valores simulados del activo 3\n",
    "varianzaS3_T = np.var(S3_T)  # Varianza de los valores simulados del activo 3\n",
    "print(np.sqrt(varianzaS3_T)) \n",
    "plt.hist(S3_T, bins=20)\n",
    "plt.show()"
   ]
  },
  {
   "cell_type": "code",
   "execution_count": 10,
   "metadata": {},
   "outputs": [
    {
     "name": "stdout",
     "output_type": "stream",
     "text": [
      "El VaR con un 90% de confianza es de:\n",
      "42629.300250913424\n"
     ]
    }
   ],
   "source": [
    "decil = N/10 # Nivel de Confianza (90%)\n",
    "R1 = (Spot[0]-np.sort(S1_T)[np.int(decil)])*raiz_dt*np.floor(Montos[0]/Spot[0])  # Cambio_Valor*Tiempo_a_futuro*N_acciones\n",
    "R2 = (Spot[1]-np.sort(S2_T)[np.int(decil)])*raiz_dt*np.floor(Montos[1]/Spot[1])\n",
    "R3 = (Spot[2]-np.sort(S3_T)[np.int(decil)])*raiz_dt*np.floor(Montos[2]/Spot[2])\n",
    "VAR = R1 + R2 + R3\n",
    "print('El VaR con un 90% de confianza es de:')\n",
    "print(VAR)"
   ]
  },
  {
   "cell_type": "markdown",
   "metadata": {},
   "source": [
    "El VaR calculado fue aproximadamente 42 mil pesos, indicando que, con un nivel de significancia del 90 porciento para el 3 días despues del 15 de octubre de 2020, un escenario sumamente pesismista indica que la máxima pérdida sería de 42 mil pesos."
   ]
  },
  {
   "cell_type": "code",
   "execution_count": null,
   "metadata": {},
   "outputs": [],
   "source": []
  }
 ],
 "metadata": {
  "kernelspec": {
   "display_name": "Python 3",
   "language": "python",
   "name": "python3"
  },
  "language_info": {
   "codemirror_mode": {
    "name": "ipython",
    "version": 3
   },
   "file_extension": ".py",
   "mimetype": "text/x-python",
   "name": "python",
   "nbconvert_exporter": "python",
   "pygments_lexer": "ipython3",
   "version": "3.8.3"
  }
 },
 "nbformat": 4,
 "nbformat_minor": 2
}
