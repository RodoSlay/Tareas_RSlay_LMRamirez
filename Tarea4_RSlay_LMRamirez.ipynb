{
 "cells": [
  {
   "cell_type": "markdown",
   "metadata": {},
   "source": [
    "<img style=\"float: left; margin: 30px 15px 15px 15px;\" src=\"https://pngimage.net/wp-content/uploads/2018/06/logo-iteso-png-5.png\" width=\"300\" height=\"500\" /> \n",
    "    \n",
    "    \n",
    "### <font color='navy'> Simulación de procesos financieros. \n",
    "\n",
    "**Nombres:** Luis María Ramírez de la Rosa y Rodolfo Slay Ramos\n",
    "\n",
    "**Fecha:** 25 de septiembre del 2020.\n",
    "\n",
    "**Expediente** : #### y 715214.\n",
    "**Profesor:** Oscar David Jaramillo Zuluaga.\n",
    "\n",
    "# Tarea 4: Clase 9 y Clase 10"
   ]
  },
  {
   "cell_type": "markdown",
   "metadata": {},
   "source": [
    "**Github:** [Repositorio de Tareas](https://github.com/RodoSlay/Tareas_RSlay_LMRamirez)"
   ]
  },
  {
   "cell_type": "markdown",
   "metadata": {},
   "source": [
    "## Solución de la Tarea"
   ]
  },
  {
   "cell_type": "markdown",
   "metadata": {},
   "source": [
    "> 1. Generación variable aleatoria continua\n",
    ">El tiempo en el cual un movimiento browniano se mantiene sobre su punto máximo en el intervalo [0,1] tiene una distribución\n",
    ">$$F(x)=\\frac{2}{\\pi}\\sin^{-1}(\\sqrt x),\\quad 0\\leq x\\leq 1$$ </font>"
   ]
  },
  {
   "cell_type": "code",
   "execution_count": 1,
   "metadata": {},
   "outputs": [],
   "source": [
    "#E1 RSR\n",
    "import numpy as np\n",
    "import matplotlib.pyplot as plt\n",
    "%matplotlib inline\n",
    "from scipy import optimize\n",
    "from scipy.stats import beta\n"
   ]
  },
  {
   "cell_type": "code",
   "execution_count": 2,
   "metadata": {},
   "outputs": [],
   "source": [
    "def Gen_distr_discreta(U:'vector de números aleatorios',\n",
    "                       p_acum: 'P.Acumulada de la distribución a generar'):\n",
    "    '''Tener en cuenta que este arreglo cuenta números empezando del 0'''\n",
    "    v = np.array(list(map(lambda j:sum(1 for i in p_acum if i<U[j]),range(N))))\n",
    "    return v\n",
    "\n",
    "def plot_histogram_discrete(distribucion:'señal de varibles aleatorias de un distribución DISCRETA dada',\n",
    "                            label:'label del legend a aparecer en el gráfica',\n",
    "                            densidad:'por defecto regresa el histograma en densidad'=True):\n",
    "    # len(set(distribucion)) cuenta la cantidad de elementos distintos de la variable 'distribucion'\n",
    "    plt.figure(figsize=[8,4])\n",
    "    y,x = np.histogram(distribucion,bins = len(set(distribucion)),density = densidad) \n",
    "    plt.bar(x[1:],y,label=label)\n",
    "#     print(len(y),len(x))\n",
    "    plt.legend()\n",
    "    plt.show()\n",
    "    \n",
    "def Comparar_Aleatorios_Densidad (f, Finv, N):\n",
    "    u = np.random.uniform(0,1,N)\n",
    "    f_rand = Finv(u)\n",
    "    x = np.arange(0.03, .97, 0.01)\n",
    "    f_densidad = f(x)\n",
    "    plt.hist(f_rand, density=True, bins=40)\n",
    "    plt.plot(x, (f_densidad))\n",
    "    plt.show()"
   ]
  },
  {
   "cell_type": "markdown",
   "metadata": {},
   "source": [
    "Para poder sacar la inversa tenemos que hacer lo siguiente:\n",
    "\n",
    "$$F(x)=\\frac{2}{\\pi}\\sin^{-1}(\\sqrt x)$$\n",
    "$$U=\\frac{2}{\\pi}\\sin^{-1}(\\sqrt x)$$\n",
    "$$U=\\frac{2}{\\pi}\\sin^{-1}(\\sqrt x)$$\n",
    "$$\\frac{\\pi U}{2}=\\sin^{-1}(\\sqrt x)$$\n",
    "$$\\sin\\frac{\\pi U}{2}=\\sqrt x$$\n",
    "$$F_{inv} = \\sin^2\\frac{\\pi U}{2}=x$$\n",
    "\n",
    "Y la derivada se necesita para poder sacar la Funcion de Densidad de Probabilidad\n",
    "\n",
    "$$\\frac{\\partial \\frac{2}{\\pi}\\sin^{-1}(\\sqrt x)}{\\partial x} = $$\n",
    "\n",
    "$${\\partial \\frac{2}{\\pi}\\sin^{-1}(u)}{\\partial u} = ,     u = \\sqrt x$$\n",
    "\n",
    "$$\\frac{2}{\\pi \\sqrt {1-u^2}}{du} = ,     du = \\frac{1}{2\\sqrt x}$$\n",
    "\n",
    "\n",
    "\n",
    "\n",
    "$$\\frac{1}{\\pi \\sqrt {1-x} \\sqrt x} = f(x)$$"
   ]
  },
  {
   "cell_type": "code",
   "execution_count": 3,
   "metadata": {},
   "outputs": [
    {
     "data": {
      "image/png": "[encoded data removed]",
      "text/plain": [
       "<Figure size 432x288 with 1 Axes>"
      ]
     },
     "metadata": {
      "needs_background": "light"
     },
     "output_type": "display_data"
    }
   ],
   "source": [
    "f = lambda x: 1 / (np.sqrt(1-x) * np.sqrt(x) * np.pi)\n",
    "Finv = lambda u: (np.sin(u * np.pi / 2)) ** 2\n",
    "N = 10000\n",
    "Comparar_Aleatorios_Densidad(f, Finv, N);"
   ]
  },
  {
   "cell_type": "code",
   "execution_count": 4,
   "metadata": {},
   "outputs": [],
   "source": [
    "#E2 LMRR"
   ]
  },
  {
   "cell_type": "code",
   "execution_count": null,
   "metadata": {},
   "outputs": [],
   "source": []
  },
  {
   "cell_type": "code",
   "execution_count": null,
   "metadata": {},
   "outputs": [],
   "source": []
  },
  {
   "cell_type": "code",
   "execution_count": null,
   "metadata": {},
   "outputs": [],
   "source": []
  },
  {
   "cell_type": "markdown",
   "metadata": {},
   "source": [
    "> 2. Generación variable aleatoria Discreta\n",
    "> La distribución binomial modela el número de éxitos de n ensayos independientes donde hay una probabilidad p de éxito en cada ensayo.\n",
    "> Generar una variable aletoria binomial con parámetros $n=10$ y $p=0.7$. Recordar que $$X\\sim binomial(n,p) \\longrightarrow p_i=P(X=i)=\\frac{n!}{i!(n-i)!}p^i(1-p)^{n-i},\\quad i=0,1,\\cdots,n$$\n",
    "> Por propiedades de la operación factorial la anterior $p_i$ se puede escribir como:\n",
    "> $$p_{i+1}=\\frac{n-i}{i+1}\\frac{p}{1-p} p_i $$"
   ]
  },
  {
   "cell_type": "code",
   "execution_count": 5,
   "metadata": {},
   "outputs": [],
   "source": [
    "#E1 RSR"
   ]
  },
  {
   "cell_type": "markdown",
   "metadata": {},
   "source": [
    "$$p_i=P(X=i)=\\frac{n!}{i!(n-i)!}p^i(1-p)^{n-i},\\quad i=0,1,\\cdots,n$$\n",
    "\n",
    "$$p_{i+1}=P(X=i+1)=\\frac{n!}{i+1!(n-(i+1))!}p^{i+1}(1-p)^{n-i-1}$$\n",
    "\n",
    "Considerando las siguientes propiedades:\n",
    "\n",
    "$$ n! = n(n-1)!$$\n",
    "\n",
    "$$ p^{i + 1} = p^i p^1 $$\n",
    "\n",
    "Y aplicando donde corresponde, entonces podemos afirmar lo siguiente:\n",
    "\n",
    "$$\\frac{p_{i+1}}{p_i}=\\frac{P(X=i+1)}{P(X=i)}=\\frac{\\frac{n!}{i+1!(n-(i+1)!}p^{i+1}(1-p)^{n-i-1}}{\\frac{n!}{i!(n-i)!}p^i(1-p)^{n-i}} $$\n",
    "\n",
    "$$\\frac{p_{i+1}}{p_i}=\\frac{P(X=i+1)}{P(X=i)}=\\frac{\\frac{n!}{i+1(i)!(n-(i+1))!}p^ip(1-p)^{n-i}}{\\frac{n!}{i!(n-i)!}p^i(1-p)^{n-i}(1-p)^{1}} $$\n",
    "\n",
    "$$\\frac{p_{i+1}}{p_i} = \\frac{n-i}{i+1}\\frac{p}{1-p}$$\n",
    "\n",
    "Para finalmente poder llegar a:\n",
    "\n",
    "$$p_{i+1}=\\frac{n-i}{i+1}\\frac{p}{1-p} p_i $$\n",
    "\n",
    "Que es a lo que queriamos llegar.\n"
   ]
  },
  {
   "cell_type": "code",
   "execution_count": 6,
   "metadata": {},
   "outputs": [],
   "source": [
    "# DE LA MANERA COMO SE VIO EN LA CLASE 12\n",
    "# Función que calcula la probabilidad acumulada optimizada\n",
    "def proba_binomial(n:'Cantidad de ensayos',p:'Probabilidad de los eventos',\n",
    "                   N:'Cantidad de puntos a graficar'):\n",
    "    Pr = np.zeros(N)\n",
    "    Pr[0] = (1-p)**n\n",
    "    def pr(i):\n",
    "        nonlocal Pr\n",
    "        c  = p/(1-p)\n",
    "        Pr[i+1]=(c*(n-i)/(i+1))*Pr[i]\n",
    "        \n",
    "    # Lleno el vector Pr usando compresión de listas\n",
    "    [pr(i) for i in range(N-1)]\n",
    "    return Pr"
   ]
  },
  {
   "cell_type": "code",
   "execution_count": 7,
   "metadata": {},
   "outputs": [
    {
     "name": "stdout",
     "output_type": "stream",
     "text": [
      "(3, 100)\n"
     ]
    },
    {
     "data": {
      "image/png": "[encoded data removed]",
      "text/plain": [
       "<Figure size 720x288 with 2 Axes>"
      ]
     },
     "metadata": {
      "needs_background": "light"
     },
     "output_type": "display_data"
    }
   ],
   "source": [
    "# Comprobación de función creada\n",
    "# DE LA MANERA COMO SE VIO EN LA CLASE 12\n",
    "# Distintos parámetros para graficar la función binomial\n",
    "n = [50,100,150]\n",
    "# Parámetro p de la dristribución\n",
    "p = 0.5\n",
    "# Resultado usando método convencional\n",
    "P = list(map(lambda x,n: proba_binomial(n,p,100),range(len(n)),n))\n",
    "P = np.asmatrix(P)\n",
    "print(P.shape)\n",
    "\n",
    "def grafica_distribucion_prob(P:'Matriz de probabilidades binomiales'):\n",
    "    # Gráfica de densidad de probabilidad\n",
    "    fig,(ax1,ax2) = plt.subplots(1,2)\n",
    "    fig.set_figwidth(10)\n",
    "    ax1.plot(P.T,'o',markersize=3)\n",
    "    ax1.legend(['n=50','n=100','n=150'])\n",
    "    ax1.set_title('Densidad de probabilidad')\n",
    "    # ax1.show()\n",
    "\n",
    "    # Probabilidad acumulada\n",
    "    F = np.cumsum(P,axis=1)\n",
    "    # plt.figure(2)\n",
    "    ax2.plot(F.T,'o',markersize=3)\n",
    "    ax2.legend(['n=%d'%n[0],'n=%d'%n[1],'n=%d'%n[2]])\n",
    "    ax2.set_title('Distribución acumulada')\n",
    "\n",
    "    plt.show()\n",
    "    \n",
    "# Gráfica del método convencional y vectorizado\n",
    "grafica_distribucion_prob(P)"
   ]
  },
  {
   "cell_type": "code",
   "execution_count": 8,
   "metadata": {},
   "outputs": [],
   "source": [
    "#E2 LMRR"
   ]
  },
  {
   "cell_type": "code",
   "execution_count": null,
   "metadata": {},
   "outputs": [],
   "source": []
  },
  {
   "cell_type": "code",
   "execution_count": null,
   "metadata": {},
   "outputs": [],
   "source": []
  },
  {
   "cell_type": "code",
   "execution_count": null,
   "metadata": {},
   "outputs": [],
   "source": []
  },
  {
   "cell_type": "markdown",
   "metadata": {},
   "source": [
    "# Tarea \n",
    "Partiendo que se desea generar variables aleatorias para la siguiente función de densidad\n",
    "$$f(x)=30(x^2-2x^3+x^4)$$\n",
    "Responda los siguientes literales:\n",
    "1. Usar como función que mayora a $f(x)$ a $t(x)=a \\sin(\\pi x)$ donde a es el máximo de la función $f(x)$ y graficarlas en una misma gráfica, para validar que en realidad si cumple la condición $t(x)\\geq f(x)$.\n"
   ]
  },
  {
   "cell_type": "code",
   "execution_count": 9,
   "metadata": {},
   "outputs": [],
   "source": [
    "#E1\n",
    "def Acep_rechazo(R2:'Variables distruidas U~U(0,1)',\n",
    "                 R1:'Variables distribuidas como g(x)',\n",
    "                 f:'función objetivo a generar',\n",
    "                 t:'función que mayor a f'):\n",
    "#     R1 = np.random.rand(N)\n",
    "    f_x = f(R1)\n",
    "    t_x = t(R1)\n",
    "    condition = R2*t_x <= f_x\n",
    "    [plt.plot(R1[i],R2[i]*t_x[i],'ob') if condition[i] else plt.plot(R1[i],R2[i]*t_x[i],'o') \\\n",
    "         for i in range(len(R1))]\n",
    "                \n",
    "    plt.show()"
   ]
  },
  {
   "cell_type": "markdown",
   "metadata": {},
   "source": [
    "La funcion es: $$f(x)=30(x^2-2x^3+x^4)$$\n",
    "\n",
    "Y $$t(x)=a \\sin(\\pi x) $$ \n",
    "\n",
    "donde $a$ es el punto maximo de $f(x)$."
   ]
  },
  {
   "cell_type": "code",
   "execution_count": 10,
   "metadata": {},
   "outputs": [
    {
     "name": "stdout",
     "output_type": "stream",
     "text": [
      "El maximo punto, en otras palabra a = [1.875].\n"
     ]
    },
    {
     "data": {
      "image/png": "[encoded data removed]",
      "text/plain": [
       "<Figure size 432x288 with 1 Axes>"
      ]
     },
     "metadata": {
      "needs_background": "light"
     },
     "output_type": "display_data"
    }
   ],
   "source": [
    "# Función objetivo \n",
    "# Ilustración del método de aceptación y rechazo cuando se toma t(x) constante\n",
    "\n",
    "# Función objetivo \n",
    "f = lambda x:30*(x**2-2*x**3+x**4)\n",
    "# Máximo de la función f\n",
    "max_f = f(optimize.fmin(lambda x:-f(x),0,disp=False)) #El opt te da el maximo, y la f del principio es para evaluar f con \n",
    "#el resultado. \n",
    "# Función t\n",
    "t = lambda x: max_f*np.sin(np.pi*x)\n",
    "\n",
    "a = max_f\n",
    "\n",
    "x = np.arange(0,1,.01)  # Rango donde se graficará las funciones\n",
    "\n",
    "# Gráficas de las funciones\n",
    "plt.plot(x,f(x),label='f(x)')\n",
    "plt.plot(x,t(x),label='t(x)')\n",
    "plt.plot(0.5, a, 'rx' ,label='Maximo punto = {}'.format(a))\n",
    "plt.legend()\n",
    "print('El maximo punto, en otras palabra a = {}.'.format(a))"
   ]
  },
  {
   "cell_type": "code",
   "execution_count": 11,
   "metadata": {},
   "outputs": [],
   "source": [
    "#E2"
   ]
  },
  {
   "cell_type": "code",
   "execution_count": null,
   "metadata": {},
   "outputs": [],
   "source": []
  },
  {
   "cell_type": "code",
   "execution_count": null,
   "metadata": {},
   "outputs": [],
   "source": []
  },
  {
   "cell_type": "code",
   "execution_count": null,
   "metadata": {},
   "outputs": [],
   "source": []
  },
  {
   "cell_type": "markdown",
   "metadata": {},
   "source": [
    "2. Encontrar la función de densidad $g(x)$ según lo visto en clase. Reportar todos los cálculos realizados para encontrar dicha función usando Markdown (Latex).\n"
   ]
  },
  {
   "cell_type": "code",
   "execution_count": 12,
   "metadata": {},
   "outputs": [],
   "source": [
    "#E1"
   ]
  },
  {
   "cell_type": "markdown",
   "metadata": {},
   "source": [
    "$g(x) = \\frac{t}{c}$ y $g(X)$ es la Funcion de Densidad de Probabilidad\n",
    "\n",
    "Tambien sabemos que $$c = \\int_{0}^{1} t(x) \\partial x$$\n",
    "\n",
    "$$t(x) = a\\sin(\\pi x)$$\n",
    "\n",
    "$$c = \\int_{0}^{1} a\\sin(\\pi x) \\partial x$$\n",
    "\n",
    "Como $t(x)$ esta definido entre 0 y 1 y $a = 1.875$\n",
    "\n",
    "$$c = \\int_{0}^{1} 1.875\\sin(\\pi x) \\partial x$$\n",
    "\n",
    "$$c = -\\frac{1.875 \\cos(\\pi x)}{\\pi} \\Big|_0^1$$\n",
    "\n",
    "$$c = \\frac{3.75}{\\pi}$$\n",
    "\n",
    "Y evaluando en $g(x)$.\n",
    "\n",
    "$$g(x) = \\frac{t}{c}  $$\n",
    "\n",
    "$$g(x) = \\frac{1.875\\sin(\\pi x)}{\\frac{3.75}{\\pi}}  $$\n",
    "\n",
    "$$g(x) = \\frac{\\pi \\sin(\\pi x)}{{2}}  $$\n",
    "\n",
    "$$g(x) = \\frac{\\pi \\sin(\\pi x)}{{2}}  $$\n",
    "\n",
    "Finv\n",
    "\n",
    "$$U = \\frac{\\pi \\sin(\\pi x)}{{2}}  $$\n",
    "\n",
    "$$\\frac{2U}{\\pi} =  \\sin(\\pi x)  $$\n",
    "\n",
    "$$ \\sin^{-1}\\frac{2U}{\\pi} =  \\pi x$$\n",
    "\n",
    "$$ \\frac{1}{\\pi}\\sin^{-1}\\frac{2U}{\\pi} =  x , sustituir  \n",
    "U $$\n",
    "\n",
    "$$\\frac{1}{\\pi}\\sin^{-1}({-2U + 1})$$\n",
    "\n",
    "\n",
    "\n"
   ]
  },
  {
   "cell_type": "code",
   "execution_count": 13,
   "metadata": {},
   "outputs": [],
   "source": [
    "#E2"
   ]
  },
  {
   "cell_type": "code",
   "execution_count": null,
   "metadata": {},
   "outputs": [],
   "source": []
  },
  {
   "cell_type": "code",
   "execution_count": null,
   "metadata": {},
   "outputs": [],
   "source": []
  },
  {
   "cell_type": "code",
   "execution_count": null,
   "metadata": {},
   "outputs": [],
   "source": []
  },
  {
   "cell_type": "markdown",
   "metadata": {},
   "source": [
    "3. Usar la función encontrada en el punto 2 y utilizar el método de la transformada inversa visto en la clase 9, para generar variables aleatorias que sigan la distribución $g(x)$. **Nota:** Recuerde que el método de la transformada inversa funciona con la distribución de probabilidad acumulada y no con su densidad. Nuevamente similar al punto anterior reportar todos los cálculos usando Markdown (Latex). \n"
   ]
  },
  {
   "cell_type": "code",
   "execution_count": 14,
   "metadata": {},
   "outputs": [],
   "source": [
    "#E1"
   ]
  },
  {
   "cell_type": "markdown",
   "metadata": {},
   "source": [
    "Para Encontrar $G(x)$ que es la distribución acumulada.\n",
    "\n",
    "$$G(x)=\\int_{0}^{x}\\frac{\\pi\\sin(\\pi x)}{2} = -\\frac{cos(\\pi x)}{2}\\Big|_{0}^{x}=-\\frac{\\cos(\\pi x)}{2}+\\frac{1}{2}$$\n",
    "\n",
    "Igualamos $G(x)$ a $U$\n",
    "\n",
    "$$U=-\\frac{\\cos(\\pi x)}{2}+\\frac{1}{2}$$\n",
    "\n",
    "$$2U=-\\cos(\\pi x)+1$$\n",
    "\n",
    "$$2U-1=-\\cos(\\pi x)$$\n",
    "\n",
    "$$-\\cos(2U-1)=\\pi x$$\n",
    "\n",
    "$$x=\\frac{\\cos^{-1}(-2U+1)}{\\pi}$$\n",
    "\n",
    "Este valor corresponde a $R_2$ que sigue una distribución $g(x)$"
   ]
  },
  {
   "cell_type": "code",
   "execution_count": 15,
   "metadata": {},
   "outputs": [],
   "source": [
    "#E2"
   ]
  },
  {
   "cell_type": "code",
   "execution_count": null,
   "metadata": {},
   "outputs": [],
   "source": []
  },
  {
   "cell_type": "code",
   "execution_count": null,
   "metadata": {},
   "outputs": [],
   "source": []
  },
  {
   "cell_type": "code",
   "execution_count": null,
   "metadata": {},
   "outputs": [],
   "source": []
  },
  {
   "cell_type": "markdown",
   "metadata": {},
   "source": [
    "4. Según el punto 3, generar 10000 puntos aleatorios que sigan la distribución $g(x)$ y comparar con su histograma para validar que los puntos generados siguen la distribución deseada. El resultado debe ser como sigue:\n",
    "![imagen.png](attachment:imagen.png)\n",
    "\n"
   ]
  },
  {
   "cell_type": "code",
   "execution_count": 16,
   "metadata": {},
   "outputs": [],
   "source": [
    "#E1"
   ]
  },
  {
   "cell_type": "code",
   "execution_count": 17,
   "metadata": {},
   "outputs": [
    {
     "data": {
      "image/png": "[encoded data removed]",
      "text/plain": [
       "<Figure size 432x288 with 1 Axes>"
      ]
     },
     "metadata": {
      "needs_background": "light"
     },
     "output_type": "display_data"
    }
   ],
   "source": [
    "g = lambda x: (np.pi / 2) * np.sin(np.pi * x)\n",
    "G_inv = lambda u: (1 / np.pi) * np.arccos(-2 * u + 1)\n",
    "N=10000\n",
    "\n",
    "Comparar_Aleatorios_Densidad(g, G_inv, N);"
   ]
  },
  {
   "cell_type": "code",
   "execution_count": 18,
   "metadata": {},
   "outputs": [],
   "source": [
    "#E2"
   ]
  },
  {
   "cell_type": "code",
   "execution_count": null,
   "metadata": {},
   "outputs": [],
   "source": []
  },
  {
   "cell_type": "code",
   "execution_count": null,
   "metadata": {},
   "outputs": [],
   "source": []
  },
  {
   "cell_type": "code",
   "execution_count": null,
   "metadata": {},
   "outputs": [],
   "source": []
  },
  {
   "cell_type": "markdown",
   "metadata": {},
   "source": [
    "5. Genere 500 puntos aleatorios usando el método de aceptación y rechazo y las funciones $f(x)$ y $t(x)$ para validar que todos los cálculos anteriores están correctamente realizados. El resultado debe de ser como sigue:\n",
    "![imagen.png](attachment:imagen.png)\n"
   ]
  },
  {
   "cell_type": "code",
   "execution_count": 19,
   "metadata": {},
   "outputs": [],
   "source": [
    "#E1"
   ]
  },
  {
   "cell_type": "code",
   "execution_count": 20,
   "metadata": {},
   "outputs": [
    {
     "name": "stdout",
     "output_type": "stream",
     "text": [
      "El máximo de f es: [1.875]\n"
     ]
    },
    {
     "data": {
      "image/png": "[encoded data removed]",
      "text/plain": [
       "<Figure size 432x288 with 1 Axes>"
      ]
     },
     "metadata": {
      "needs_background": "light"
     },
     "output_type": "display_data"
    }
   ],
   "source": [
    "x = np.arange(0,1,0.01)\n",
    "print('El máximo de f es:',max_f)\n",
    "# Gráficas de las funciones\n",
    "plt.plot(x,f(x),label='f(x)')\n",
    "plt.plot(x,t(x),label='t(x)')\n",
    "plt.legend()\n",
    "\n",
    "# Validación del método\n",
    "N = 500 \n",
    "R_2 = lambda u: np.arccos(1-2*u)/np.pi\n",
    "U = np.random.rand(N)\n",
    "R2 = R_2(U) #Si queremos distribución que siga el comportamiento de g(x)\n",
    "R2 = np.random.rand(N)  #Si queremos una distribución normal\n",
    "R1 = np.random.rand(N)\n",
    "\n",
    "Acep_rechazo(R2,R1,f,t)"
   ]
  },
  {
   "cell_type": "code",
   "execution_count": 21,
   "metadata": {},
   "outputs": [],
   "source": [
    "#E2"
   ]
  },
  {
   "cell_type": "code",
   "execution_count": null,
   "metadata": {},
   "outputs": [],
   "source": []
  },
  {
   "cell_type": "code",
   "execution_count": null,
   "metadata": {},
   "outputs": [],
   "source": []
  },
  {
   "cell_type": "code",
   "execution_count": null,
   "metadata": {},
   "outputs": [],
   "source": []
  },
  {
   "cell_type": "markdown",
   "metadata": {},
   "source": [
    "\n",
    "6. Comparar el porcentaje de puntos de aceptación cuando se usa $t(x)$ constante y $t(x)$ un pulso senoidal. Concluir\n"
   ]
  },
  {
   "cell_type": "code",
   "execution_count": 22,
   "metadata": {},
   "outputs": [],
   "source": [
    "#E1"
   ]
  },
  {
   "cell_type": "code",
   "execution_count": 23,
   "metadata": {},
   "outputs": [],
   "source": [
    "def Acep(R2:'Variables distruidas U~U(0,1)',\n",
    "                 R1:'Variables distribuidas como g(x)',\n",
    "                 f:'función objetivo a generar',\n",
    "                 t:'función que mayora a f'):\n",
    "#    R1 = np.random.rand(N)\n",
    "    f_x = f(R1)\n",
    "    t_x = t(R1)\n",
    "    d = np.zeros(len(R1))\n",
    "    condition = np.multiply(R2,t_x)<=f_x\n",
    "    d = np.asarray([1 if condition[i] else 0 for i in range(len(R1))]).sum()\n",
    "    return d"
   ]
  },
  {
   "cell_type": "code",
   "execution_count": 24,
   "metadata": {},
   "outputs": [
    {
     "name": "stdout",
     "output_type": "stream",
     "text": [
      "El porcentaje de puntos de aceptación cuando usas t(x) como constante:  54.4 %\n",
      "El porcentaje de puntos de aceptación cuando usas t(x) como un pulso senoidal es:  74.2 %\n"
     ]
    }
   ],
   "source": [
    "# Función t -> Función constante\n",
    "ts = lambda x: max_f*np.sin(np.pi*x)\n",
    "tc = lambda x: max_f*np.ones(len(x))\n",
    "x = np.arange(0,1,0.01)\n",
    "\n",
    "N = 500\n",
    "R_2 = lambda u: np.arccos(1-2*u)/np.pi\n",
    "U = np.random.rand(N)\n",
    "R2 = R_2(U)\n",
    "R1 = np.random.rand(N)\n",
    "Aceptacion_Sc = Acep(R2,R1,f,tc)*100/len(R1)\n",
    "Aceptacion_Ss = Acep(R2,R1,f,ts)*100/len(R1)\n",
    "print('El porcentaje de puntos de aceptación cuando usas t(x) como constante: ',Aceptacion_Sc,'%')\n",
    "print('El porcentaje de puntos de aceptación cuando usas t(x) como un pulso senoidal es: ',Aceptacion_Ss,'%')"
   ]
  },
  {
   "cell_type": "code",
   "execution_count": 25,
   "metadata": {},
   "outputs": [],
   "source": [
    "#E2"
   ]
  },
  {
   "cell_type": "code",
   "execution_count": null,
   "metadata": {},
   "outputs": [],
   "source": []
  },
  {
   "cell_type": "code",
   "execution_count": null,
   "metadata": {},
   "outputs": [],
   "source": []
  },
  {
   "cell_type": "code",
   "execution_count": null,
   "metadata": {},
   "outputs": [],
   "source": []
  },
  {
   "cell_type": "markdown",
   "metadata": {},
   "source": [
    "\n",
    "7. Genere una variable aleatoria $X$ a partir de la siguiente PDF\n",
    "$$f(x)=20x(1-x)^3$$ \n",
    "usando el método de aceptación y rechazo"
   ]
  },
  {
   "cell_type": "code",
   "execution_count": 26,
   "metadata": {},
   "outputs": [
    {
     "data": {
      "image/png": "[encoded data removed]",
      "text/plain": [
       "<Figure size 432x288 with 1 Axes>"
      ]
     },
     "metadata": {
      "needs_background": "light"
     },
     "output_type": "display_data"
    }
   ],
   "source": [
    "#E1\n",
    "f = lambda x: 20*x*(1-x)**3\n",
    "a = f(optimize.fmin(lambda x:-f(x),5,disp=False))\n",
    "t = lambda x: a*np.ones(len(x))\n",
    "x = np.arange(0,1,0.01)\n",
    "\n",
    "plt.plot(x,f(x),label='f(x)')\n",
    "plt.plot(x,t(x),label='t(x)')\n",
    "plt.legend(loc=\"best\")\n",
    "N= 350\n",
    "R2 = np.random.rand(N)\n",
    "R1 = np.random.rand(N)\n",
    "Acep_rechazo(R1, R2, f, t)"
   ]
  },
  {
   "cell_type": "code",
   "execution_count": 27,
   "metadata": {},
   "outputs": [],
   "source": [
    "def dis(R2:'Variables distruidas U~U(0,1)',\n",
    "                 R1:'Variables distribuidas como g(x)',\n",
    "                 f:'función objetivo a generar',\n",
    "                 t:'función que mayora a f'):\n",
    "    f_x = f(R1)\n",
    "    t_x = t(R1)\n",
    "    condition = R2*t_x <=f_x\n",
    "    cont = [ R1[i] for i in range(len(R1)) if condition[i]]\n",
    "    return cont"
   ]
  },
  {
   "cell_type": "code",
   "execution_count": 28,
   "metadata": {},
   "outputs": [
    {
     "data": {
      "text/plain": [
       "[]"
      ]
     },
     "execution_count": 28,
     "metadata": {},
     "output_type": "execute_result"
    },
    {
     "data": {
      "image/png": "[encoded data removed]",
      "text/plain": [
       "<Figure size 432x288 with 1 Axes>"
      ]
     },
     "metadata": {
      "needs_background": "light"
     },
     "output_type": "display_data"
    }
   ],
   "source": [
    "f = lambda x: 20*x*(1-x)**3\n",
    "a = f(optimize.fmin(lambda x:-f(x),5,disp=False))\n",
    "t = lambda x: a*np.ones(len(x))\n",
    "R_1 = lambda u: 20*x*(1-x)**3\n",
    "x = np.arange(0,1,0.01)\n",
    "N=10000\n",
    "R1 = np.random.rand(N)\n",
    "R2 = np.random.rand(N)\n",
    "plt.hist(dis(R2,R1,f,t), bins=30, density=True)\n",
    "plt.plot(x,f(x),label='f(x)')\n",
    "plt.plot()"
   ]
  },
  {
   "cell_type": "code",
   "execution_count": 29,
   "metadata": {},
   "outputs": [],
   "source": [
    "#E2"
   ]
  },
  {
   "cell_type": "code",
   "execution_count": null,
   "metadata": {},
   "outputs": [],
   "source": []
  },
  {
   "cell_type": "code",
   "execution_count": null,
   "metadata": {},
   "outputs": [],
   "source": []
  },
  {
   "cell_type": "code",
   "execution_count": null,
   "metadata": {},
   "outputs": [],
   "source": []
  },
  {
   "cell_type": "markdown",
   "metadata": {},
   "source": [
    "> ## <font color ='red'>Tarea\n",
    "Seguir un procedimiento similar al mostrado cuando se generó una distribución binomial, pero en esta caso genere un código que genere variables aletorias Poisson cuya función de distribución de probabilidad esta dada por:\n",
    ">$$P(k,\\lambda)=\\frac{e^{-\\lambda}(\\lambda)^k}{k!}$$\n",
    "    \n",
    "> Demuestre matemáticamente que \n",
    "> $$P(k+1)=\\frac{\\lambda}{k+1}P(k)$$\n",
    "> y a partir de esta relación genere variables aletorias que distribuyen poisson usando el método de la transformada inversa.\n",
    "\n",
    "Enlace: https://es.wikipedia.org/wiki/Distribuci%C3%B3n_de_Poisson"
   ]
  },
  {
   "cell_type": "markdown",
   "metadata": {},
   "source": [
    "#E1\n",
    "\n",
    "Tomamos \n",
    "$$P(k,\\lambda)=\\frac{e^{-\\lambda}(\\lambda)^k}{k!}$$\n",
    "y sustituimos $k$ por $k+1$\n",
    "$$P(k+1) = \\frac{e^{-\\lambda}\\lambda^{k+1}}{(k+1)!}$$\n",
    "separamos $\\lambda^{k+1}$ en $\\lambda^{k}\\lambda^{1}$ y obtenemos\n",
    "$$P(k+1) = \\frac{e^{-\\lambda}\\lambda^{k}\\lambda^{1}}{(k+1)!}$$\n",
    "usamos la siguiente propiedad $n! = n(n-1)!$ pero con $(k+1)!$ obeteniendo $(k+1)!=(k+1)(k+1-1)!$\n",
    "$$P(k+1) = \\frac{e^{-\\lambda}\\lambda^{k}\\lambda}{(k+1)k!}$$\n",
    "sustituimos $\\frac{e^{-\\lambda}(\\lambda)^k}{k!}=P(k)$\n",
    "$$P(k+1) = \\frac{\\lambda}{k+1}P(k)$$"
   ]
  },
  {
   "cell_type": "code",
   "execution_count": 30,
   "metadata": {},
   "outputs": [],
   "source": [
    "# Función que calcula la probabilidad acumulada optimizada\n",
    "def P_acum_Poisson(n,l):\n",
    "    P = np.zeros(n)\n",
    "    P[0] = np.exp(-l)\n",
    "    def po(i):\n",
    "        nonlocal P\n",
    "        P[i+1]=(l/(i+1))*P[i]\n",
    "        \n",
    "    # Lleno el vector Pr usando compresión de listas\n",
    "    [po(i) for i in range(n-1)]\n",
    "    return np.cumsum(P)"
   ]
  },
  {
   "cell_type": "code",
   "execution_count": 32,
   "metadata": {},
   "outputs": [
    {
     "data": {
      "image/png": "[encoded data removed]",
      "text/plain": [
       "<Figure size 576x288 with 1 Axes>"
      ]
     },
     "metadata": {
      "needs_background": "light"
     },
     "output_type": "display_data"
    }
   ],
   "source": [
    "n = 10; l = 2; N = 100000\n",
    "\n",
    "p_acum = P_acum_Poisson(n,l)\n",
    "u = np.random.rand(N)\n",
    "\n",
    "# Usando el método de la transformada inversa\n",
    "d_binomial = Gen_distr_discreta(u,p_acum)\n",
    "plot_histogram_discrete(d_binomial,'Distribución de Poisson con la transformada inversa')"
   ]
  },
  {
   "cell_type": "code",
   "execution_count": null,
   "metadata": {},
   "outputs": [],
   "source": [
    "#E2"
   ]
  },
  {
   "cell_type": "code",
   "execution_count": null,
   "metadata": {},
   "outputs": [],
   "source": []
  },
  {
   "cell_type": "code",
   "execution_count": null,
   "metadata": {},
   "outputs": [],
   "source": []
  },
  {
   "cell_type": "code",
   "execution_count": null,
   "metadata": {},
   "outputs": [],
   "source": []
  }
 ],
 "metadata": {
  "kernelspec": {
   "display_name": "Python 3",
   "language": "python",
   "name": "python3"
  },
  "language_info": {
   "codemirror_mode": {
    "name": "ipython",
    "version": 3
   },
   "file_extension": ".py",
   "mimetype": "text/x-python",
   "name": "python",
   "nbconvert_exporter": "python",
   "pygments_lexer": "ipython3",
   "version": "3.8.3"
  }
 },
 "nbformat": 4,
 "nbformat_minor": 4
}
