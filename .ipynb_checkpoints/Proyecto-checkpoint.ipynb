{
 "cells": [
  {
   "cell_type": "markdown",
   "metadata": {},
   "source": [
    "<img style=\"float: left; margin: 30px 15px 15px 15px;\" src=\"https://pngimage.net/wp-content/uploads/2018/06/logo-iteso-png-5.png\" width=\"300\" height=\"500\" /> \n",
    "    \n",
    "    \n",
    "### <font color='navy'> Simulación de procesos financieros. \n",
    "\n",
    "**Nombres:** Luis María Ramírez de la Rosa y Rodolfo Slay Ramos\n",
    "\n",
    "**Fecha:** 25 de septiembre del 2020.\n",
    "\n",
    "**Expediente** : 691761 y 715214.\n",
    "**Profesor:** Oscar David Jaramillo Zuluaga.\n",
    "\n",
    "#### Proyecto Modulo 2"
   ]
  },
  {
   "cell_type": "markdown",
   "metadata": {},
   "source": [
    "# Ofuscando el negocio"
   ]
  },
  {
   "cell_type": "markdown",
   "metadata": {},
   "source": [
    "El proyecto consiste en poder hacer un predictivo de la Utilidad Operativa que va a teneruna empresa que se dedica al credito de nomina."
   ]
  },
  {
   "cell_type": "markdown",
   "metadata": {},
   "source": [
    "## Objetivos"
   ]
  },
  {
   "cell_type": "markdown",
   "metadata": {},
   "source": [
    "Se suele decir que el unico riesgo que conllevan estas empresas es la renuncia o el despido de un empleado. Lo que se propone realizar en este proyecto es un predictivo de la Utilidad Operativa. Para ser negocio se definira como que la Utilidad Operativa entre el Monto total invertido sea mayora a un 14% como tasa anual despues de haber reducido el 18% que se le paga a los inversionistas en la banca de inversion. \n",
    "\n",
    "Como objetivos especificos:\n",
    "- Se busca la probabilidad de que la tasa de cartera vencida no pase por encima de un 6% en cuanto a montos totales con el manejo que se tiene hasta el momento.\n",
    "- Se necesita determinar el plazo al que se toman los creditos para saber la velocidad con la cual se recupera el capital y poder ajustar las tasas pactadas a la real.\n",
    "- Se busca determinar cuanto es la Tasa Promedio ponderada a la que se le cobra a un cliente, para determinar la utilidad porcentual que se tiene. Esta debera ser ajustada con la cartera vencida.\n"
   ]
  },
  {
   "cell_type": "code",
   "execution_count": null,
   "metadata": {},
   "outputs": [],
   "source": []
  }
 ],
 "metadata": {
  "kernelspec": {
   "display_name": "Python 3",
   "language": "python",
   "name": "python3"
  },
  "language_info": {
   "codemirror_mode": {
    "name": "ipython",
    "version": 3
   },
   "file_extension": ".py",
   "mimetype": "text/x-python",
   "name": "python",
   "nbconvert_exporter": "python",
   "pygments_lexer": "ipython3",
   "version": "3.8.3"
  }
 },
 "nbformat": 4,
 "nbformat_minor": 4
}
